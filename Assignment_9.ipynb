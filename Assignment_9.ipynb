{
 "cells": [
  {
   "cell_type": "markdown",
   "id": "6e683382",
   "metadata": {},
   "source": [
    "# 1. To what does a relative path refer?"
   ]
  },
  {
   "cell_type": "code",
   "execution_count": null,
   "id": "99c5d041",
   "metadata": {},
   "outputs": [],
   "source": [
    "Relative paths are related to the current working directories"
   ]
  },
  {
   "cell_type": "markdown",
   "id": "5b12693a",
   "metadata": {},
   "source": [
    "# 2. What does an absolute path start with your operating system?"
   ]
  },
  {
   "cell_type": "code",
   "execution_count": null,
   "id": "4092d71b",
   "metadata": {},
   "outputs": [],
   "source": [
    "Absolute paths starts with the root folder such as / or c: . \n",
    "All the information required to locate the file or folder is available in the absolute path.\n",
    "An absolute path contains the complete of directories to locate the specific file or folder.\n"
   ]
  },
  {
   "cell_type": "markdown",
   "id": "ca9fdbbd",
   "metadata": {},
   "source": [
    "# 3. What do the functions os.getcwd() and os.chdir() do?"
   ]
  },
  {
   "cell_type": "code",
   "execution_count": null,
   "id": "fad49573",
   "metadata": {},
   "outputs": [],
   "source": [
    "The os.getced() function returns the current working directory.\n",
    "the os.chdir() function changes the current working directory."
   ]
  },
  {
   "cell_type": "markdown",
   "id": "befc60fc",
   "metadata": {},
   "source": [
    "# 4. What are the . and .. folders?"
   ]
  },
  {
   "cell_type": "code",
   "execution_count": null,
   "id": "d93d405f",
   "metadata": {},
   "outputs": [],
   "source": [
    "The . folder current working folder , .. folder is the parent folder."
   ]
  },
  {
   "cell_type": "markdown",
   "id": "39ad2181",
   "metadata": {},
   "source": [
    "# 5. In C:\\bacon\\eggs\\spam.txt, which part is the dir name, and which part is the base name?"
   ]
  },
  {
   "cell_type": "code",
   "execution_count": null,
   "id": "0323288e",
   "metadata": {},
   "outputs": [],
   "source": [
    "here c:\\bacon\\eggs is the dir and spam.txt is base name"
   ]
  },
  {
   "cell_type": "markdown",
   "id": "a0345444",
   "metadata": {},
   "source": [
    "# 6. What are the three “mode” arguments that can be passed to the open() function?"
   ]
  },
  {
   "cell_type": "code",
   "execution_count": null,
   "id": "b623ffef",
   "metadata": {},
   "outputs": [],
   "source": [
    "The string 'r' for read mode , 'w'for write mode, 'a' for append mode"
   ]
  },
  {
   "cell_type": "markdown",
   "id": "569b1d76",
   "metadata": {},
   "source": [
    "# 7. What happens if an existing file is opened in write mode?"
   ]
  },
  {
   "cell_type": "code",
   "execution_count": null,
   "id": "76f65a98",
   "metadata": {},
   "outputs": [],
   "source": [
    "An existing file in write mode is erased and completly over written."
   ]
  },
  {
   "cell_type": "markdown",
   "id": "918ea1f9",
   "metadata": {},
   "source": [
    "# 8. How do you tell the difference between read() and readlines()?"
   ]
  },
  {
   "cell_type": "markdown",
   "id": "b41efcba",
   "metadata": {},
   "source": [
    "The read() method returns the file's entire contents as a single string value. The readlines() method returns a list of strings, where each string is a line from the file's contents."
   ]
  },
  {
   "cell_type": "markdown",
   "id": "2e403de1",
   "metadata": {},
   "source": [
    "# 9. What data structure does a shelf value resemble?"
   ]
  },
  {
   "cell_type": "markdown",
   "id": "a97ca774",
   "metadata": {},
   "source": [
    "A shelf value resembles a dictionary value; it has keys and values, along with keys() and values() methods that work similarly to the dictionary methods of the same names."
   ]
  },
  {
   "cell_type": "code",
   "execution_count": null,
   "id": "ae23a9ff",
   "metadata": {},
   "outputs": [],
   "source": []
  }
 ],
 "metadata": {
  "kernelspec": {
   "display_name": "Python 3",
   "language": "python",
   "name": "python3"
  },
  "language_info": {
   "codemirror_mode": {
    "name": "ipython",
    "version": 3
   },
   "file_extension": ".py",
   "mimetype": "text/x-python",
   "name": "python",
   "nbconvert_exporter": "python",
   "pygments_lexer": "ipython3",
   "version": "3.8.8"
  }
 },
 "nbformat": 4,
 "nbformat_minor": 5
}
