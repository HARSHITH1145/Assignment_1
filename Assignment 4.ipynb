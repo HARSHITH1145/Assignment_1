{
 "cells": [
  {
   "cell_type": "markdown",
   "id": "a1fac970",
   "metadata": {},
   "source": [
    "# 1. What exactly is []?"
   ]
  },
  {
   "cell_type": "code",
   "execution_count": null,
   "id": "ecb4fd6c",
   "metadata": {},
   "outputs": [],
   "source": [
    "Here it is exactly an empty list , which is a list values that contains n"
   ]
  },
  {
   "cell_type": "markdown",
   "id": "ae36a2bf",
   "metadata": {},
   "source": [
    "# 2. In a list of values stored in a variable called spam, how would you assign the value &#39;hello&#39; as the third value? (Assume [2, 4, 6, 8, 10] are in spam.)"
   ]
  },
  {
   "cell_type": "code",
   "execution_count": null,
   "id": "bfcba764",
   "metadata": {},
   "outputs": [],
   "source": [
    "spam[2]='hello'"
   ]
  },
  {
   "cell_type": "markdown",
   "id": "fe780175",
   "metadata": {},
   "source": [
    "# 3. What is the value of spam[int(int(&#39;3&#39; * 2) / 11)]?"
   ]
  },
  {
   "cell_type": "markdown",
   "id": "b7ff94e0",
   "metadata": {},
   "source": [
    "The value is 'd' (Note that '3'*2 if the string '33', which is passed to int() and the string converts to int and thus, 33/11 the value is 3 , so the 3 element in list is 'd')"
   ]
  },
  {
   "cell_type": "markdown",
   "id": "11f8b892",
   "metadata": {},
   "source": [
    "# 4. What is the value of spam[-1]?"
   ]
  },
  {
   "cell_type": "code",
   "execution_count": null,
   "id": "3f8a5254",
   "metadata": {},
   "outputs": [],
   "source": [
    "The value of spam[-1] = 'd'\n",
    "Negative indexes count from end'"
   ]
  },
  {
   "cell_type": "markdown",
   "id": "dbc14af6",
   "metadata": {},
   "source": [
    "# 5. What is the value of spam[:2]?"
   ]
  },
  {
   "cell_type": "code",
   "execution_count": null,
   "id": "11caafed",
   "metadata": {},
   "outputs": [],
   "source": [
    "The value of spam[:2] = ['a','b']\n",
    "it takes the initial value as 0 and goes till (n-1) elements in a list"
   ]
  },
  {
   "cell_type": "markdown",
   "id": "1553ea3e",
   "metadata": {},
   "source": [
    "# Let&#39;s pretend bacon has the list [3.14, &#39;cat,&#39; 11, &#39;cat,&#39; True] for the next three questions."
   ]
  },
  {
   "cell_type": "markdown",
   "id": "6cc88e6a",
   "metadata": {},
   "source": [
    "# 6. What is the value of bacon.index(&#39;cat&#39;)?"
   ]
  },
  {
   "cell_type": "code",
   "execution_count": null,
   "id": "571427d9",
   "metadata": {},
   "outputs": [],
   "source": [
    "The value of bacon.index('cat') is 1"
   ]
  },
  {
   "cell_type": "markdown",
   "id": "a9004954",
   "metadata": {},
   "source": [
    "# 7. How does bacon.append(99) change the look of the list value in bacon?"
   ]
  },
  {
   "cell_type": "code",
   "execution_count": null,
   "id": "f9576538",
   "metadata": {},
   "outputs": [],
   "source": [
    "it changes the look of the list value in bacon as [3.14, 'cat,' 11, 'cat,' True,99]\n",
    "The append adds the element at last of the list"
   ]
  },
  {
   "cell_type": "markdown",
   "id": "367ed170",
   "metadata": {},
   "source": [
    "# 8. How does bacon.remove(&#39;cat&#39;) change the look of the list in bacon?"
   ]
  },
  {
   "cell_type": "code",
   "execution_count": null,
   "id": "be4546af",
   "metadata": {},
   "outputs": [],
   "source": [
    "it changes the look of the list values in bacon as [3.14, 11, 'cat,' True]\n",
    "when it comes to .remove it removes the elements from the first."
   ]
  },
  {
   "cell_type": "markdown",
   "id": "43fbc5c8",
   "metadata": {},
   "source": [
    "# 9. What are the list concatenation and list replication operators?"
   ]
  },
  {
   "cell_type": "code",
   "execution_count": null,
   "id": "ce94bb28",
   "metadata": {},
   "outputs": [],
   "source": [
    "The operator for list concatenation is +, while the operator for list replication is *."
   ]
  },
  {
   "cell_type": "markdown",
   "id": "2aa14aca",
   "metadata": {},
   "source": [
    "# 10. What is difference between the list methods append() and insert()?"
   ]
  },
  {
   "cell_type": "code",
   "execution_count": null,
   "id": "a18fe0f7",
   "metadata": {},
   "outputs": [],
   "source": [
    "The append() method adds the values at the end of the list , while the insert() method adds the values at anywhere in the list."
   ]
  },
  {
   "cell_type": "markdown",
   "id": "d4ac7d84",
   "metadata": {},
   "source": [
    "# 11. What are the two methods for removing items from a list?"
   ]
  },
  {
   "cell_type": "code",
   "execution_count": null,
   "id": "6376e1ec",
   "metadata": {},
   "outputs": [],
   "source": [
    "The del statement and the remove() are the two list methods for removing items from a list."
   ]
  },
  {
   "cell_type": "markdown",
   "id": "59f7f4dd",
   "metadata": {},
   "source": [
    "# 12. Describe how list values and string values are identical."
   ]
  },
  {
   "cell_type": "code",
   "execution_count": null,
   "id": "2f34df27",
   "metadata": {},
   "outputs": [],
   "source": [
    "Both list and strings values have indexes and slices,\n",
    "both can be concatenated or replicated thus they are mutable,\n",
    "both can be used in loops , so the list values and string values are identical"
   ]
  },
  {
   "cell_type": "markdown",
   "id": "0736c7eb",
   "metadata": {},
   "source": [
    "# 13. What&#39;s the difference between tuples and lists?"
   ]
  },
  {
   "cell_type": "code",
   "execution_count": null,
   "id": "4b863c78",
   "metadata": {},
   "outputs": [],
   "source": [
    "lists are mutable , we can add values , removed and changed and lists use the square brackets[].\n",
    "tuples are immutable , we cannot change anything and tuples uses brackets()"
   ]
  },
  {
   "cell_type": "markdown",
   "id": "d70de5e7",
   "metadata": {},
   "source": [
    "# 14. How do you type a tuple value that only contains the integer 42?"
   ]
  },
  {
   "cell_type": "code",
   "execution_count": null,
   "id": "31bfea83",
   "metadata": {},
   "outputs": [],
   "source": [
    "(42,)"
   ]
  },
  {
   "cell_type": "markdown",
   "id": "3b20bf1e",
   "metadata": {},
   "source": [
    "# 15. How do you get a list value&#39;s tuple form? How do you get a tuple value&#39;s list form?"
   ]
  },
  {
   "cell_type": "code",
   "execution_count": null,
   "id": "4eb5bacc",
   "metadata": {},
   "outputs": [],
   "source": [
    "The list() and tuple() functions."
   ]
  },
  {
   "cell_type": "markdown",
   "id": "b18f7946",
   "metadata": {},
   "source": [
    "# 16. Variables that &quot;contain&quot; list values are not necessarily lists themselves. Instead, what do they contain?"
   ]
  },
  {
   "cell_type": "code",
   "execution_count": null,
   "id": "0b944f5e",
   "metadata": {},
   "outputs": [],
   "source": [
    "They contain references to list values."
   ]
  },
  {
   "cell_type": "markdown",
   "id": "d93149d0",
   "metadata": {},
   "source": [
    "# 17. How do you distinguish between copy.copy() and copy.deepcopy()?"
   ]
  },
  {
   "cell_type": "code",
   "execution_count": null,
   "id": "75398639",
   "metadata": {},
   "outputs": [],
   "source": [
    "The copy.copy() function will do a shallow copy of a list, while the copy.deepcopy() function will do a deep copy of a list i.e only duplicates any lists inside the list."
   ]
  }
 ],
 "metadata": {
  "kernelspec": {
   "display_name": "Python 3",
   "language": "python",
   "name": "python3"
  },
  "language_info": {
   "codemirror_mode": {
    "name": "ipython",
    "version": 3
   },
   "file_extension": ".py",
   "mimetype": "text/x-python",
   "name": "python",
   "nbconvert_exporter": "python",
   "pygments_lexer": "ipython3",
   "version": "3.8.8"
  }
 },
 "nbformat": 4,
 "nbformat_minor": 5
}
