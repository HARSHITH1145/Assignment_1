{
 "cells": [
  {
   "cell_type": "markdown",
   "id": "ba2ef42c",
   "metadata": {},
   "source": [
    "1. Create a list called, starting with the year of your birth, and each year thereafter until\n",
    "the year of your fifth birthday. For example, if you were born in 1980. the list would be years_list =\n",
    "[1980, 1981, 1982, 1983, 1984, 1985]."
   ]
  },
  {
   "cell_type": "markdown",
   "id": "9fec73fd",
   "metadata": {},
   "source": [
    "years_list=[year for year in range(YEAR_OF_BIRTH,YEAR_OF_BIRTH+5)]\n",
    "Replace YEAR_OF_BIRTH with your actual birth year."
   ]
  },
  {
   "cell_type": "markdown",
   "id": "fa637ff7",
   "metadata": {},
   "source": [
    "2. In which year in years_list was your third birthday? Remember, you were 0 years of age for your\n",
    "first year."
   ]
  },
  {
   "cell_type": "markdown",
   "id": "3c460e20",
   "metadata": {},
   "source": [
    "years_list[3]"
   ]
  },
  {
   "cell_type": "markdown",
   "id": "5ef5a135",
   "metadata": {},
   "source": [
    "3.In the years list, which year were you the oldest?"
   ]
  },
  {
   "cell_type": "markdown",
   "id": "da73200e",
   "metadata": {},
   "source": [
    "years_list[5]"
   ]
  },
  {
   "cell_type": "markdown",
   "id": "56856739",
   "metadata": {},
   "source": [
    "4. Make a list called things with these three strings as elements: &quot;mozzarella&quot;, &quot;cinderella&quot;,\n",
    "&quot;salmonella&quot;."
   ]
  },
  {
   "cell_type": "markdown",
   "id": "5fd71c0d",
   "metadata": {},
   "source": [
    "things = [\"mozzarella\",\"cinderella\",\"salmonella\"]"
   ]
  },
  {
   "cell_type": "markdown",
   "id": "64ca91d1",
   "metadata": {},
   "source": [
    "5. Capitalize the element in things that refers to a person and then print the list. Did it change the\n",
    "element in the list?"
   ]
  },
  {
   "cell_type": "markdown",
   "id": "7414ac01",
   "metadata": {},
   "source": [
    "things[1].upper()"
   ]
  },
  {
   "cell_type": "markdown",
   "id": "b146cc16",
   "metadata": {},
   "source": [
    "6. Make a surprise list with the elements &quot;Groucho,&quot; &quot;Chico,&quot; and &quot;Harpo.&quot;"
   ]
  },
  {
   "cell_type": "markdown",
   "id": "2f24fb57",
   "metadata": {},
   "source": [
    "surprise=['Groucho','chico','harpo']"
   ]
  },
  {
   "cell_type": "markdown",
   "id": "3ca6064c",
   "metadata": {},
   "source": [
    "7. Lowercase the last element of the surprise list, reverse it, and then capitalize it."
   ]
  },
  {
   "cell_type": "markdown",
   "id": "ec5f2ffa",
   "metadata": {},
   "source": [
    "To lowercase the last element, you can use the lower() method: surprise[-1] = surprise[-1].lower(). To reverse the string, you can use slicing: surprise[-1] = surprise[-1][::-1]. Finally, you can capitalize the string using title(): surprise[-1] = surprise[-1].upper(). The output of print(surprise) should be [\"Groucho\", \"Chico\", \"Oprah\"]."
   ]
  },
  {
   "cell_type": "markdown",
   "id": "67a12341",
   "metadata": {},
   "source": [
    "8. Make an English-to-French dictionary called e2f and print it. Here are your starter words: dog is\n",
    "chien, cat is chat, and walrus is morse."
   ]
  },
  {
   "cell_type": "markdown",
   "id": "73a5137f",
   "metadata": {},
   "source": [
    "e2f = {\"dog\": \"chien\", \"cat\": \"chat\", \"walrus\": \"morse\"}"
   ]
  },
  {
   "cell_type": "markdown",
   "id": "366e013e",
   "metadata": {},
   "source": [
    "9. Write the French word for walrus in your three-word dictionary e2f."
   ]
  },
  {
   "cell_type": "markdown",
   "id": "65c08aff",
   "metadata": {},
   "source": [
    "The French word for walrus is e2f[\"walrus\"], which would give you \"morse\"."
   ]
  },
  {
   "cell_type": "markdown",
   "id": "1b910867",
   "metadata": {},
   "source": [
    "10. Make a French-to-English dictionary called f2e from e2f. Use the items method."
   ]
  },
  {
   "cell_type": "markdown",
   "id": "4384551a",
   "metadata": {},
   "source": [
    "f2e = {french: english for english, french in e2f.items()}"
   ]
  },
  {
   "cell_type": "markdown",
   "id": "4ffa8881",
   "metadata": {},
   "source": [
    "11. Print the English version of the French word chien using f2e."
   ]
  },
  {
   "cell_type": "markdown",
   "id": "3e3629f9",
   "metadata": {},
   "source": [
    "To print the English word for \"chien\", you can use f2e[\"chien\"], which should give you \"dog\"."
   ]
  },
  {
   "cell_type": "markdown",
   "id": "8f68466a",
   "metadata": {},
   "source": [
    "12. Make and print a set of English words from the keys in e2f."
   ]
  },
  {
   "cell_type": "markdown",
   "id": "792a4d91",
   "metadata": {},
   "source": [
    "You can create a set of English words using set(e2f.keys())."
   ]
  },
  {
   "cell_type": "markdown",
   "id": "f84a160d",
   "metadata": {},
   "source": [
    "13. Make a multilevel dictionary called life. Use these strings for the topmost keys: 'animals', 'plants', and 'other'. Make the 'animals' key refer to another dictionary with the keys 'cats', 'octopi', and 'emus'. Make the 'cats' key refer to a list of strings with the values 'Henri', 'Grumpy', and 'Lucy'. Make all the other keys refer to empty dictionaries. "
   ]
  },
  {
   "cell_type": "markdown",
   "id": "23e6d6d4",
   "metadata": {},
   "source": [
    "life = {\"animals\": {\"cats\": [\"Henri\", \"Grumpy\", \"Lucy\"], \"octopi\": {}, \"emus\": {}}, \"plants\": {}, \"other\": {}}"
   ]
  },
  {
   "cell_type": "markdown",
   "id": "59716a82",
   "metadata": {},
   "source": [
    "14. Print the top-level keys of life."
   ]
  },
  {
   "cell_type": "markdown",
   "id": "10563df6",
   "metadata": {},
   "source": [
    "To print the top-level keys of life, you can use print(life.keys())."
   ]
  },
  {
   "cell_type": "markdown",
   "id": "58c13849",
   "metadata": {},
   "source": [
    "15. Print the keys for life['animals']. "
   ]
  },
  {
   "cell_type": "markdown",
   "id": "a99ebdef",
   "metadata": {},
   "source": [
    "To print the keys for life[\"animals\"], you can use print(life[\"animals\"].keys())."
   ]
  },
  {
   "cell_type": "markdown",
   "id": "bba5c699",
   "metadata": {},
   "source": [
    "16. Print the values for life['animals']['cats']"
   ]
  },
  {
   "cell_type": "markdown",
   "id": "93e81c1c",
   "metadata": {},
   "source": [
    "To print the values for life[\"animals\"][\"cats\"], you can use print(life[\"animals\"][\"cats\"]). This should give you [\"Henri\", \"Grumpy\", \"Lucy\"]."
   ]
  },
  {
   "cell_type": "code",
   "execution_count": null,
   "id": "26385d51",
   "metadata": {},
   "outputs": [],
   "source": []
  }
 ],
 "metadata": {
  "kernelspec": {
   "display_name": "Python 3",
   "language": "python",
   "name": "python3"
  },
  "language_info": {
   "codemirror_mode": {
    "name": "ipython",
    "version": 3
   },
   "file_extension": ".py",
   "mimetype": "text/x-python",
   "name": "python",
   "nbconvert_exporter": "python",
   "pygments_lexer": "ipython3",
   "version": "3.8.8"
  }
 },
 "nbformat": 4,
 "nbformat_minor": 5
}
