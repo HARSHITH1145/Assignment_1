{
 "cells": [
  {
   "cell_type": "markdown",
   "id": "b33bb127",
   "metadata": {},
   "source": [
    "# 1. Why are functions advantageous to have in your programs?"
   ]
  },
  {
   "cell_type": "markdown",
   "id": "253e814c",
   "metadata": {},
   "source": [
    "Functions increases the reusability of code , we can define a number of lines of code under a function hence , we can use that function N number of times in a program . \n",
    "functions make the code shorter , easier to update."
   ]
  },
  {
   "cell_type": "markdown",
   "id": "e62adf79",
   "metadata": {},
   "source": [
    "# 2. When does the code in a function run: when it&#39;s specified or when it&#39;s called?"
   ]
  },
  {
   "cell_type": "markdown",
   "id": "fb5f2734",
   "metadata": {},
   "source": [
    "The code in a function runs when the function is called , not when it is specified.\n"
   ]
  },
  {
   "cell_type": "markdown",
   "id": "98f60e94",
   "metadata": {},
   "source": [
    "# 3. What statement creates a function?"
   ]
  },
  {
   "cell_type": "code",
   "execution_count": null,
   "id": "cb54d4bb",
   "metadata": {},
   "outputs": [],
   "source": [
    "The def statement creates a function .\n",
    "def function_name(arguments):\n",
    "eg: def test1(*args):"
   ]
  },
  {
   "cell_type": "markdown",
   "id": "84a3686e",
   "metadata": {},
   "source": [
    "# 4. What is the difference between a function and a function call?"
   ]
  },
  {
   "cell_type": "code",
   "execution_count": null,
   "id": "28bc024c",
   "metadata": {},
   "outputs": [],
   "source": [
    "FUNCTION:\n",
    "A function is defined by a keyword def, function name, passing arguments.\n",
    "it contains the actual code of a function by which the function works.\n",
    "\n",
    "FUNCTION CALL:\n",
    "A function call is  used to call a function , it calls only the functionality of the function not code .\n",
    "A function call moves the program execution into function.\n"
   ]
  },
  {
   "cell_type": "markdown",
   "id": "dc028071",
   "metadata": {},
   "source": [
    "# 5. How many global scopes are there in a Python program? How many local scopes?"
   ]
  },
  {
   "cell_type": "code",
   "execution_count": null,
   "id": "6db26694",
   "metadata": {},
   "outputs": [],
   "source": [
    "There is only one GLOBAL scope , and a local scope is created Whenever a function is called."
   ]
  },
  {
   "cell_type": "markdown",
   "id": "5e6e0304",
   "metadata": {},
   "source": [
    "# 6. What happens to variables in a local scope when the function call returns?"
   ]
  },
  {
   "cell_type": "code",
   "execution_count": null,
   "id": "e44e41b5",
   "metadata": {},
   "outputs": [],
   "source": [
    "When a function call returns , the local scope is destroyed and the variables in it are forgotten."
   ]
  },
  {
   "cell_type": "markdown",
   "id": "8be5afae",
   "metadata": {},
   "source": [
    "\n",
    "# 7. What is the concept of a return value? Is it possible to have a return value in an expression?"
   ]
  },
  {
   "cell_type": "markdown",
   "id": "823bc5cb",
   "metadata": {},
   "source": [
    "A return value is used to end the execution of a function call and returns the result to the caller. and it is possible to have a return value in an expression."
   ]
  },
  {
   "cell_type": "markdown",
   "id": "ef62c595",
   "metadata": {},
   "source": [
    "# 8. If a function does not have a return statement, what is the return value of a call to that function?"
   ]
  },
  {
   "cell_type": "code",
   "execution_count": null,
   "id": "c2997747",
   "metadata": {},
   "outputs": [],
   "source": [
    "if a function does not have a return statement , the return value of a call to that function is NONE"
   ]
  },
  {
   "cell_type": "markdown",
   "id": "0c1493d9",
   "metadata": {},
   "source": [
    "# 9. How do you make a function variable refer to the global variable?"
   ]
  },
  {
   "cell_type": "code",
   "execution_count": null,
   "id": "bf7f157a",
   "metadata": {},
   "outputs": [],
   "source": [
    "A global statement will force a variable in a function to refer to the global variable. "
   ]
  },
  {
   "cell_type": "markdown",
   "id": "e82e2f90",
   "metadata": {},
   "source": [
    "# 10. What is the data type of None?"
   ]
  },
  {
   "cell_type": "code",
   "execution_count": null,
   "id": "36a8cb0a",
   "metadata": {},
   "outputs": [],
   "source": [
    "The data type of None is None Type."
   ]
  },
  {
   "cell_type": "markdown",
   "id": "010f551a",
   "metadata": {},
   "source": [
    "# 11. What does the sentence import areallyourpetsnamederic do?"
   ]
  },
  {
   "cell_type": "code",
   "execution_count": null,
   "id": "b33b697c",
   "metadata": {},
   "outputs": [],
   "source": [
    "The import statement imports a module named areallyourpetsnameder"
   ]
  },
  {
   "cell_type": "markdown",
   "id": "2efc4abb",
   "metadata": {},
   "source": [
    "# 12. If you had a bacon() feature in a spam module, what would you call it after importing spam?"
   ]
  },
  {
   "cell_type": "code",
   "execution_count": null,
   "id": "d048ea14",
   "metadata": {},
   "outputs": [],
   "source": [
    "The function can be called as spam.bacon()."
   ]
  },
  {
   "cell_type": "markdown",
   "id": "ad532e10",
   "metadata": {},
   "source": [
    "# 13. What can you do to save a programme from crashing if it encounters an error?"
   ]
  },
  {
   "cell_type": "code",
   "execution_count": null,
   "id": "20f317e3",
   "metadata": {},
   "outputs": [],
   "source": [
    "Placing the line of code that might cause an error in a try clause"
   ]
  },
  {
   "cell_type": "markdown",
   "id": "0414ff9b",
   "metadata": {},
   "source": [
    "# 14. What is the purpose of the try clause? What is the purpose of the except clause?"
   ]
  },
  {
   "cell_type": "code",
   "execution_count": null,
   "id": "28758fa4",
   "metadata": {},
   "outputs": [],
   "source": [
    "The code that cause an error goes in the try clause.\n",
    "The code that executes if an error happens goes in the expect clause."
   ]
  }
 ],
 "metadata": {
  "kernelspec": {
   "display_name": "Python 3",
   "language": "python",
   "name": "python3"
  },
  "language_info": {
   "codemirror_mode": {
    "name": "ipython",
    "version": 3
   },
   "file_extension": ".py",
   "mimetype": "text/x-python",
   "name": "python",
   "nbconvert_exporter": "python",
   "pygments_lexer": "ipython3",
   "version": "3.8.8"
  }
 },
 "nbformat": 4,
 "nbformat_minor": 5
}
