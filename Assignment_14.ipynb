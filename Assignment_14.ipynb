{
 "cells": [
  {
   "cell_type": "markdown",
   "id": "af64c52d",
   "metadata": {},
   "source": [
    "1 What does RGBA stand for?"
   ]
  },
  {
   "cell_type": "markdown",
   "id": "51cf66f1",
   "metadata": {},
   "source": [
    "RGBA color values are an extension of RGB color values with an alpha channel - which specifies the opacity for a color. An RGBA color value is specified with: rgba(red, green, blue, alpha)."
   ]
  },
  {
   "cell_type": "markdown",
   "id": "6445c544",
   "metadata": {},
   "source": [
    "2. From the Pillow module, how do you get the RGBA value of any images?"
   ]
  },
  {
   "cell_type": "markdown",
   "id": "7d65ba73",
   "metadata": {},
   "source": [
    " Following steps need tobe followed :- pip install Pillow from PIL import Image img = Image.open(‘image.png’) rgba = img.convert(“RGBA”) datas = rgba.getdata()"
   ]
  },
  {
   "cell_type": "markdown",
   "id": "0ac765ae",
   "metadata": {},
   "source": [
    "3. What is a box tuple, and how does it work?"
   ]
  },
  {
   "cell_type": "markdown",
   "id": "0176081b",
   "metadata": {},
   "source": [
    "A box tuple is a tuple value of four integers: the left-edge x-coordinate, the top-edge y-coordinate, the width, and the height, respectively, \n",
    "The box.tuple submodule provides read-only access for the tuple userdata type.\n",
    "It allows, for a single tuple: selective retrieval of the field contents, retrieval of information about size, iteration over all the fields, and conversion. We can use it in the following way:-\n",
    "tuple = box.tuple.new({scalar1, scalar2, ... scalar_n}) \n",
    "lua_table = {tuple:unpack()}\n",
    "lua_table = tuple:totable()\n",
    "scalar1, scalar2, ... scalar_n = tuple:unpack()\n",
    "tuple = box.tuple.new(lua_table)"
   ]
  },
  {
   "cell_type": "markdown",
   "id": "f533b177",
   "metadata": {},
   "source": [
    "4. Use your image and load in notebook then, How can you find out the width and height of an\n",
    "Image object?"
   ]
  },
  {
   "cell_type": "markdown",
   "id": "8bd132ab",
   "metadata": {},
   "source": [
    "img.size is a tuple of two integers, the width and the height."
   ]
  },
  {
   "cell_type": "markdown",
   "id": "bc8467e8",
   "metadata": {},
   "source": [
    "from PIL import Image\n",
    "img = Image.open('image.jpg')\n",
    "img\n",
    "img.size"
   ]
  },
  {
   "cell_type": "markdown",
   "id": "a288c267",
   "metadata": {},
   "source": [
    "5. What method would you call to get Image object for a 100×100 image, excluding the lower-left\n",
    "quarter of it?"
   ]
  },
  {
   "cell_type": "markdown",
   "id": "3c142829",
   "metadata": {},
   "source": [
    "We can do that in the following way:-\n",
    "    from PIL import Image\n",
    "    im = Image.open('data/src/astronaut_rect.bmp') \n",
    "    im_crop = im.crop((60, 20, 200, 200))\n",
    "    im_crop.save('data/dst/astronaut_pillow_crop.jpg', quality=95)"
   ]
  },
  {
   "cell_type": "markdown",
   "id": "e263ef40",
   "metadata": {},
   "source": [
    "6. After making changes to an Image object, how could you save it as an image file?"
   ]
  },
  {
   "cell_type": "markdown",
   "id": "0e91e50f",
   "metadata": {},
   "source": [
    "Call the img.save('newimg.jpg') method of the Image object.\n",
    "img.crop((0, 50, 50, 50))\n",
    "img.save('newimg.jpg')\n",
    "img"
   ]
  },
  {
   "cell_type": "markdown",
   "id": "f3739010",
   "metadata": {},
   "source": [
    "We can do it on the following way :\n",
    "    from PIL import Image import PIL\n",
    "    im1 = Image.open(r\"C:\\Users\\System-Pc\\Desktop\\flower1.jpg\") \n",
    "    im1 = im1.save(\"geeks.jpg\")"
   ]
  },
  {
   "cell_type": "markdown",
   "id": "985bd24b",
   "metadata": {},
   "source": [
    "7. What module contains Pillow’s shape-drawing code?"
   ]
  },
  {
   "cell_type": "markdown",
   "id": "37bbd763",
   "metadata": {},
   "source": [
    "Pillow provides a drawing module called ImageDraw that you can use to create simple 2D graphics on your Image objects."
   ]
  },
  {
   "cell_type": "markdown",
   "id": "caba5835",
   "metadata": {},
   "source": [
    "8. Image objects do not have drawing methods. What kind of object does? How do you get this kind\n",
    "of object?"
   ]
  },
  {
   "cell_type": "markdown",
   "id": "554ac4c2",
   "metadata": {},
   "source": [
    "ImageDraw objects have shape-drawing methods such as point(), line(), or rectangle(). They are returned by passing the Image object to the ImageDraw.Draw() function"
   ]
  },
  {
   "cell_type": "code",
   "execution_count": null,
   "id": "3d685d1c",
   "metadata": {},
   "outputs": [],
   "source": []
  }
 ],
 "metadata": {
  "kernelspec": {
   "display_name": "Python 3",
   "language": "python",
   "name": "python3"
  },
  "language_info": {
   "codemirror_mode": {
    "name": "ipython",
    "version": 3
   },
   "file_extension": ".py",
   "mimetype": "text/x-python",
   "name": "python",
   "nbconvert_exporter": "python",
   "pygments_lexer": "ipython3",
   "version": "3.8.8"
  }
 },
 "nbformat": 4,
 "nbformat_minor": 5
}
