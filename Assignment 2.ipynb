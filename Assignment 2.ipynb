{
 "cells": [
  {
   "cell_type": "markdown",
   "id": "9b6012bb",
   "metadata": {},
   "source": [
    "# 1.What are the two values of the Boolean data type? How do you write them?"
   ]
  },
  {
   "cell_type": "markdown",
   "id": "0c2b82f0",
   "metadata": {},
   "source": [
    "The two values of boolean data type is (True,False) , we will write those with Capital as first letter and remaining is small.\n",
    "eg: True (\"T\" is capital here and \"rue\" is small.)"
   ]
  },
  {
   "cell_type": "markdown",
   "id": "b64ff21d",
   "metadata": {},
   "source": [
    "# 2. What are the three different types of Boolean operators?"
   ]
  },
  {
   "cell_type": "markdown",
   "id": "919e3a43",
   "metadata": {},
   "source": [
    "The three different types of Boolean operators are:\n",
    "    1. and - it returns true if both the operands returns true. \n",
    "    2. or - it returns true if any one of the operand returns true.\n",
    "    3.not - it returns true if the operand is false and returns false if the operand is true."
   ]
  },
  {
   "cell_type": "markdown",
   "id": "51f7c634",
   "metadata": {},
   "source": [
    "# 3. Make a list of each Boolean operator&#39;s truth tables (i.e. every possible combination of Booleanvalues for the operator and what it evaluate )."
   ]
  },
  {
   "cell_type": "code",
   "execution_count": null,
   "id": "60671ef8",
   "metadata": {},
   "outputs": [],
   "source": [
    "Boolean operator and truth table:\n",
    "    \n",
    "True and True = True\n",
    "True and False = False\n",
    "False and True = False \n",
    "False and False = False \n",
    "\n",
    "Boolean operator or truth table:\n",
    "    \n",
    "True or True = True \n",
    "True and False = True\n",
    "False and True = True\n",
    "False and False = False \n",
    "\n",
    "Boolean operator not truth table:\n",
    "\n",
    "True not = False\n",
    "False not = True\n",
    "\n",
    "Here True = 1 , False = 0\n",
    "\n",
    "and truth table :\n",
    "A B OUTPUT\n",
    "1 1 1\n",
    "1 0 0\n",
    "0 1 0 \n",
    "0 0 0\n",
    "\n",
    "or truth table :\n",
    "A B OUTPUT\n",
    "1 1 1\n",
    "1 0 1\n",
    "0 1 1\n",
    "0 0 0\n",
    "\n",
    "not truth table :\n",
    "\n",
    "A  OUTPUT\n",
    "1  0\n",
    "0  1"
   ]
  },
  {
   "cell_type": "markdown",
   "id": "bfc6d671",
   "metadata": {},
   "source": [
    "# 4. What are the values of the following expressions?\n",
    "(5 &gt; 4) and (3 == 5)\n",
    "not (5 &gt; 4)\n",
    "(5 &gt; 4) or (3 == 5)\n",
    "not ((5 &gt; 4) or (3 == 5))\n",
    "(True and True) and (True == False)\n",
    "(not False) or (not True)"
   ]
  },
  {
   "cell_type": "code",
   "execution_count": null,
   "id": "92134ef7",
   "metadata": {},
   "outputs": [],
   "source": [
    "(5 &gt; 4) and (3 == 5)            : False\n",
    "not (5 &gt; 4)                     : False\n",
    "(5 &gt; 4) or (3 == 5)             : True\n",
    "not ((5 &gt; 4) or (3 == 5))       : False\n",
    "(True and True) and (True == False): False\n",
    "(not False) or (not True)          : True"
   ]
  },
  {
   "cell_type": "markdown",
   "id": "0618dd3c",
   "metadata": {},
   "source": [
    "# 5. What are the six comparison operators?"
   ]
  },
  {
   "cell_type": "code",
   "execution_count": null,
   "id": "bfd30bc4",
   "metadata": {},
   "outputs": [],
   "source": [
    "== equal to  \n",
    "!  not \n",
    "< less than \n",
    "> greater than \n",
    "<= less than or equal to  \n",
    ">= greater or equal to\n"
   ]
  },
  {
   "cell_type": "markdown",
   "id": "34492e7f",
   "metadata": {},
   "source": [
    "# 6. How do you tell the difference between the equal to and assignment operators?Describe a condition and when you would use one."
   ]
  },
  {
   "cell_type": "code",
   "execution_count": null,
   "id": "418d3c90",
   "metadata": {},
   "outputs": [],
   "source": [
    "== is the equal to operator which compares two operands and gives output as boolean ,\n",
    "while = is the aassignment operater that assigns a value to a variable and variable to variable.\n",
    "\n",
    "eg:equal to operator (comparision operator)\n",
    "if (1==2):\n",
    "    print(\"True\")\n",
    "else:\n",
    "    print(\"False\")\n",
    "    \n",
    "Assignment operator \n",
    "a=1\n",
    "print(\"a =\",a)\n",
    " "
   ]
  },
  {
   "cell_type": "markdown",
   "id": "a7b99847",
   "metadata": {},
   "source": [
    "# 7. Identify the three blocks in this code:"
   ]
  },
  {
   "cell_type": "code",
   "execution_count": 5,
   "id": "a35ca6d9",
   "metadata": {},
   "outputs": [
    {
     "name": "stdout",
     "output_type": "stream",
     "text": [
      "ham\n",
      "spam\n",
      "spam\n"
     ]
    }
   ],
   "source": [
    "spam = 0\n",
    "if spam == 10:\n",
    "    print(\"eggs\")\n",
    "if spam > 5:\n",
    "    print(\"bacon\")\n",
    "else:\n",
    "    print(\"ham\")\n",
    "    print(\"spam\")\n",
    "    print(\"spam\")"
   ]
  },
  {
   "cell_type": "markdown",
   "id": "2903640d",
   "metadata": {},
   "source": [
    "# 8. Write code that prints Hello if 1 is stored in spam, prints Howdy if 2 is stored in spam, and prints Greetings! if anything else is stored in spam."
   ]
  },
  {
   "cell_type": "code",
   "execution_count": 7,
   "id": "2ece6aba",
   "metadata": {},
   "outputs": [
    {
     "name": "stdout",
     "output_type": "stream",
     "text": [
      "3\n",
      "Greetings!\n"
     ]
    }
   ],
   "source": [
    "spam= int(input())\n",
    "if spam == 1:\n",
    "    print(\"Hello\")\n",
    "if spam == 2:\n",
    "    print(\"Howdy\")\n",
    "else:\n",
    "    print(\"Greetings!\")"
   ]
  },
  {
   "cell_type": "markdown",
   "id": "e7ffa0de",
   "metadata": {},
   "source": [
    "# 9.If your programme is stuck in an endless loop, what keys you’ll press?"
   ]
  },
  {
   "cell_type": "markdown",
   "id": "d3b2c227",
   "metadata": {},
   "source": [
    "if a programme is stuck in an endless loop , i will press CLT+C"
   ]
  },
  {
   "cell_type": "markdown",
   "id": "1cc61b87",
   "metadata": {},
   "source": [
    "# 10. How can you tell the difference between break and continue?"
   ]
  },
  {
   "cell_type": "code",
   "execution_count": null,
   "id": "ea04c077",
   "metadata": {},
   "outputs": [],
   "source": [
    "for i in range(10):\n",
    "    if (i==5):\n",
    "        break\n",
    "    print(i)\n",
    "    \n",
    "for i in range(10):\n",
    "    if(i==5):\n",
    "        continue \n",
    "    print(i)"
   ]
  },
  {
   "cell_type": "raw",
   "id": "469eb477",
   "metadata": {},
   "source": [
    "0\n",
    "1\n",
    "2\n",
    "3\n",
    "4\n",
    "Break\n",
    "\n",
    "0\n",
    "1\n",
    "2\n",
    "3\n",
    "4\n",
    "6\n",
    "7\n",
    "8\n",
    "9"
   ]
  },
  {
   "cell_type": "markdown",
   "id": "a8b960a5",
   "metadata": {},
   "source": [
    "The break statement will move the execution outside of loop when the condition is True for break,\n",
    "the continue statement will move the execution to start of the loop / the continue statement just skip the where the condition turns true"
   ]
  },
  {
   "cell_type": "markdown",
   "id": "87207994",
   "metadata": {},
   "source": [
    "# 11. In a for loop, what is the difference between range(10), range(0, 10), and range(0, 10, 1)?"
   ]
  },
  {
   "cell_type": "code",
   "execution_count": 11,
   "id": "67ed3978",
   "metadata": {},
   "outputs": [
    {
     "name": "stdout",
     "output_type": "stream",
     "text": [
      "0\n",
      "1\n",
      "2\n",
      "3\n",
      "4\n",
      "5\n",
      "6\n",
      "7\n",
      "8\n",
      "9\n",
      "xxxxx\n",
      "0\n",
      "1\n",
      "2\n",
      "3\n",
      "4\n",
      "5\n",
      "6\n",
      "7\n",
      "8\n",
      "9\n",
      "xxxxx\n",
      "0\n",
      "1\n",
      "2\n",
      "3\n",
      "4\n",
      "5\n",
      "6\n",
      "7\n",
      "8\n",
      "9\n"
     ]
    }
   ],
   "source": [
    "for i in range (10):\n",
    "    print(i)\n",
    "print(\"xxxxx\")\n",
    "for i in range(0,10):\n",
    "    print(i)\n",
    "print(\"xxxxx\")\n",
    "for i in range(0,10,1):\n",
    "    print(i)"
   ]
  },
  {
   "cell_type": "markdown",
   "id": "2abf05e1",
   "metadata": {},
   "source": [
    "from the above output i conclude that for range(10) it starts from 0 and ends in (n-1),\n",
    "and for range(0,10)  range starts from 0 , the above two loops are same and\n",
    "for range(0,10,1) which starts with 0 and ends at (n-1) and increment by 1 i.e, (start,end-1,increment)"
   ]
  },
  {
   "cell_type": "markdown",
   "id": "787ae045",
   "metadata": {},
   "source": [
    "# 12. Write a short program that prints the numbers 1 to 10 using a for loop. Then write an equivalent program that prints the numbers 1 to 10 using a while loop."
   ]
  },
  {
   "cell_type": "code",
   "execution_count": 12,
   "id": "5fa8472a",
   "metadata": {},
   "outputs": [
    {
     "name": "stdout",
     "output_type": "stream",
     "text": [
      "1\n",
      "2\n",
      "3\n",
      "4\n",
      "5\n",
      "6\n",
      "7\n",
      "8\n",
      "9\n",
      "10\n",
      "1\n",
      "2\n",
      "3\n",
      "4\n",
      "5\n",
      "6\n",
      "7\n",
      "8\n",
      "9\n",
      "10\n"
     ]
    }
   ],
   "source": [
    "# using for loop\n",
    "for i in range (1,11):\n",
    "    print(i)\n",
    "    \n",
    "#using while loop\n",
    "a=1\n",
    "while a<=10:\n",
    "    print(a)\n",
    "    a+=1"
   ]
  },
  {
   "cell_type": "markdown",
   "id": "341d1cf4",
   "metadata": {},
   "source": [
    "# 13. If you had a function named bacon() inside a module named spam, how would you call it after importing spam?"
   ]
  },
  {
   "cell_type": "markdown",
   "id": "7179e135",
   "metadata": {},
   "source": [
    "The function can be called with spam.bacon()."
   ]
  },
  {
   "cell_type": "code",
   "execution_count": null,
   "id": "10e69801",
   "metadata": {},
   "outputs": [],
   "source": []
  }
 ],
 "metadata": {
  "kernelspec": {
   "display_name": "Python 3",
   "language": "python",
   "name": "python3"
  },
  "language_info": {
   "codemirror_mode": {
    "name": "ipython",
    "version": 3
   },
   "file_extension": ".py",
   "mimetype": "text/x-python",
   "name": "python",
   "nbconvert_exporter": "python",
   "pygments_lexer": "ipython3",
   "version": "3.8.8"
  }
 },
 "nbformat": 4,
 "nbformat_minor": 5
}
