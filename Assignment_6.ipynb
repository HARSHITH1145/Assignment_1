{
 "cells": [
  {
   "cell_type": "markdown",
   "id": "5a98b4b8",
   "metadata": {},
   "source": [
    "# 1. What are escape characters, and how do you use them?"
   ]
  },
  {
   "cell_type": "code",
   "execution_count": null,
   "id": "c2ea2706",
   "metadata": {},
   "outputs": [],
   "source": [
    "In python strings, the backslash (\\)s a special character also called the escape character. it is used in represting certain\n",
    "white spaces characters.\n",
    "some of them are :\n",
    "    \"\\t\" for tab space\n",
    "    \"\\n\" for new-line \n",
    "    '\\r' for carriage return."
   ]
  },
  {
   "cell_type": "markdown",
   "id": "0adeb16a",
   "metadata": {},
   "source": [
    "# 2. What do the escape characters n and t stand for?"
   ]
  },
  {
   "cell_type": "code",
   "execution_count": null,
   "id": "9670c236",
   "metadata": {},
   "outputs": [],
   "source": [
    "\"\\n\" = new line\n",
    "\"\\t\" = tab space"
   ]
  },
  {
   "cell_type": "markdown",
   "id": "32fbe994",
   "metadata": {},
   "source": [
    "# 3. What is the way to include backslash characters in a string?"
   ]
  },
  {
   "cell_type": "code",
   "execution_count": 8,
   "id": "3a4c32f6",
   "metadata": {},
   "outputs": [
    {
     "name": "stdout",
     "output_type": "stream",
     "text": [
      "its a back slash \\ in a line\n"
     ]
    }
   ],
   "source": [
    "print('its a back slash \\ in a line')"
   ]
  },
  {
   "cell_type": "markdown",
   "id": "358d0a51",
   "metadata": {},
   "source": [
    "# 4. The string &quot;Howl&#39;s Moving Castle&quot; is a correct value. Why isn&#39;t the single quote character in the word Howl&#39;s not escaped a problem?"
   ]
  },
  {
   "cell_type": "code",
   "execution_count": null,
   "id": "acc8611d",
   "metadata": {},
   "outputs": [],
   "source": [
    "The single quote in Howl's is ok because , your using the double quotes to mark the begining and end of the string, so in this \n",
    "way we can use single quote inside a double quotes."
   ]
  },
  {
   "cell_type": "code",
   "execution_count": 9,
   "id": "fba548a5",
   "metadata": {},
   "outputs": [
    {
     "name": "stdout",
     "output_type": "stream",
     "text": [
      "Howl's moving castle\n"
     ]
    }
   ],
   "source": [
    "print(\"Howl's moving castle\")"
   ]
  },
  {
   "cell_type": "code",
   "execution_count": 11,
   "id": "84687bd8",
   "metadata": {},
   "outputs": [
    {
     "name": "stdout",
     "output_type": "stream",
     "text": [
      "its a \"Nice\" day\n"
     ]
    }
   ],
   "source": [
    "print('its a \"Nice\" day')"
   ]
  },
  {
   "cell_type": "markdown",
   "id": "c68f5296",
   "metadata": {},
   "source": [
    "# 5. How do you write a string of newlines if you don&#39;t want to use the n character?"
   ]
  },
  {
   "cell_type": "code",
   "execution_count": 20,
   "id": "599731b4",
   "metadata": {},
   "outputs": [
    {
     "name": "stdout",
     "output_type": "stream",
     "text": [
      "Hello i am\n",
      "Harshith\n"
     ]
    }
   ],
   "source": [
    "print(\"Hello i am\",end='\\n')\n",
    "print(\"Harshith\")\n"
   ]
  },
  {
   "cell_type": "markdown",
   "id": "d5465091",
   "metadata": {},
   "source": [
    "# 6. What are the values of the given expressions?\n",
    "&#39;Hello, world!&#39;[1]\n",
    "&#39;Hello, world!&#39;[0:5]\n",
    "&#39;Hello, world!&#39;[:5]\n",
    "&#39;Hello, world!&#39;[3:]"
   ]
  },
  {
   "cell_type": "code",
   "execution_count": 22,
   "id": "56c3bfb7",
   "metadata": {},
   "outputs": [
    {
     "data": {
      "text/plain": [
       "'e'"
      ]
     },
     "execution_count": 22,
     "metadata": {},
     "output_type": "execute_result"
    }
   ],
   "source": [
    "'Hello World!'[1]"
   ]
  },
  {
   "cell_type": "code",
   "execution_count": 23,
   "id": "d6c19698",
   "metadata": {},
   "outputs": [
    {
     "data": {
      "text/plain": [
       "'Hello'"
      ]
     },
     "execution_count": 23,
     "metadata": {},
     "output_type": "execute_result"
    }
   ],
   "source": [
    "'Hello, world!'[0:5]"
   ]
  },
  {
   "cell_type": "code",
   "execution_count": 24,
   "id": "33e7b4cb",
   "metadata": {},
   "outputs": [
    {
     "data": {
      "text/plain": [
       "'Hello'"
      ]
     },
     "execution_count": 24,
     "metadata": {},
     "output_type": "execute_result"
    }
   ],
   "source": [
    " 'Hello, world!'[:5] "
   ]
  },
  {
   "cell_type": "code",
   "execution_count": 25,
   "id": "f47364c0",
   "metadata": {},
   "outputs": [
    {
     "data": {
      "text/plain": [
       "'lo, world!'"
      ]
     },
     "execution_count": 25,
     "metadata": {},
     "output_type": "execute_result"
    }
   ],
   "source": [
    " 'Hello, world!'[3:]"
   ]
  },
  {
   "cell_type": "markdown",
   "id": "3f27d9ba",
   "metadata": {},
   "source": [
    "# 7. What are the values of the following expressions?\n",
    "&#39;Hello&#39;.upper()\n",
    "&#39;Hello&#39;.upper().isupper()\n",
    "&#39;Hello&#39;.upper().lower()"
   ]
  },
  {
   "cell_type": "code",
   "execution_count": 26,
   "id": "0f6025a8",
   "metadata": {},
   "outputs": [
    {
     "data": {
      "text/plain": [
       "'HELLO'"
      ]
     },
     "execution_count": 26,
     "metadata": {},
     "output_type": "execute_result"
    }
   ],
   "source": [
    "'Hello'.upper() "
   ]
  },
  {
   "cell_type": "code",
   "execution_count": 30,
   "id": "97bbdbf2",
   "metadata": {},
   "outputs": [
    {
     "data": {
      "text/plain": [
       "True"
      ]
     },
     "execution_count": 30,
     "metadata": {},
     "output_type": "execute_result"
    }
   ],
   "source": [
    "'Hello'.upper().isupper()"
   ]
  },
  {
   "cell_type": "code",
   "execution_count": 28,
   "id": "3613fd98",
   "metadata": {},
   "outputs": [
    {
     "data": {
      "text/plain": [
       "'hello'"
      ]
     },
     "execution_count": 28,
     "metadata": {},
     "output_type": "execute_result"
    }
   ],
   "source": [
    "'Hello'.upper().lower()"
   ]
  },
  {
   "cell_type": "markdown",
   "id": "6a040274",
   "metadata": {},
   "source": [
    "# 8. What are the values of the following expressions?\n",
    "&#39;Remember, remember, the fifth of July.&#39;.split()\n",
    "&#39;-&#39;.join(&#39;There can only one.&#39;.split())"
   ]
  },
  {
   "cell_type": "code",
   "execution_count": 35,
   "id": "d71ed69a",
   "metadata": {},
   "outputs": [
    {
     "data": {
      "text/plain": [
       "['Remember,', 'remember,', 'the', 'fifth', 'of', 'July.']"
      ]
     },
     "execution_count": 35,
     "metadata": {},
     "output_type": "execute_result"
    }
   ],
   "source": [
    "'Remember, remember, the fifth of July.'.split() "
   ]
  },
  {
   "cell_type": "code",
   "execution_count": 33,
   "id": "86234dcd",
   "metadata": {},
   "outputs": [
    {
     "data": {
      "text/plain": [
       "'There-can-only-one.'"
      ]
     },
     "execution_count": 33,
     "metadata": {},
     "output_type": "execute_result"
    }
   ],
   "source": [
    "'-'.join('There can only one.'.split())"
   ]
  },
  {
   "cell_type": "markdown",
   "id": "727ed359",
   "metadata": {},
   "source": [
    "# 9. What are the methods for right-justifying, left-justifying, and centering a string?"
   ]
  },
  {
   "cell_type": "code",
   "execution_count": 37,
   "id": "b0aebeec",
   "metadata": {},
   "outputs": [
    {
     "data": {
      "text/plain": [
       "'shiva---------------'"
      ]
     },
     "execution_count": 37,
     "metadata": {},
     "output_type": "execute_result"
    }
   ],
   "source": [
    "str='shiva'\n",
    "str.ljust(20,\"-\")"
   ]
  },
  {
   "cell_type": "code",
   "execution_count": 41,
   "id": "340346ae",
   "metadata": {},
   "outputs": [
    {
     "data": {
      "text/plain": [
       "'***********************************shiva'"
      ]
     },
     "execution_count": 41,
     "metadata": {},
     "output_type": "execute_result"
    }
   ],
   "source": [
    "str='shiva'\n",
    "str.rjust(40,\"*\")"
   ]
  },
  {
   "cell_type": "code",
   "execution_count": 43,
   "id": "3e8f079e",
   "metadata": {},
   "outputs": [
    {
     "data": {
      "text/plain": [
       "'*****************shiva******************'"
      ]
     },
     "execution_count": 43,
     "metadata": {},
     "output_type": "execute_result"
    }
   ],
   "source": [
    "str='shiva'\n",
    "str.center(40,\"*\")"
   ]
  },
  {
   "cell_type": "markdown",
   "id": "4bf4a714",
   "metadata": {},
   "source": [
    "# 10. What is the best way to remove whitespace characters from the start or end?"
   ]
  },
  {
   "cell_type": "code",
   "execution_count": 48,
   "id": "90982019",
   "metadata": {},
   "outputs": [
    {
     "data": {
      "text/plain": [
       "'bfbfbfbfbf gfgfgfgfgf    '"
      ]
     },
     "execution_count": 48,
     "metadata": {},
     "output_type": "execute_result"
    }
   ],
   "source": [
    "a='    bfbfbfbfbf gfgfgfgfgf    '\n",
    "a.lstrip()"
   ]
  },
  {
   "cell_type": "code",
   "execution_count": 49,
   "id": "863e40fb",
   "metadata": {},
   "outputs": [
    {
     "data": {
      "text/plain": [
       "'      bfbfbfbfbf gfgfgfgfgf'"
      ]
     },
     "execution_count": 49,
     "metadata": {},
     "output_type": "execute_result"
    }
   ],
   "source": [
    "a='      bfbfbfbfbf gfgfgfgfgf   '\n",
    "a.rstrip()"
   ]
  },
  {
   "cell_type": "code",
   "execution_count": null,
   "id": "e182f4c1",
   "metadata": {},
   "outputs": [],
   "source": []
  }
 ],
 "metadata": {
  "kernelspec": {
   "display_name": "Python 3",
   "language": "python",
   "name": "python3"
  },
  "language_info": {
   "codemirror_mode": {
    "name": "ipython",
    "version": 3
   },
   "file_extension": ".py",
   "mimetype": "text/x-python",
   "name": "python",
   "nbconvert_exporter": "python",
   "pygments_lexer": "ipython3",
   "version": "3.8.8"
  }
 },
 "nbformat": 4,
 "nbformat_minor": 5
}
