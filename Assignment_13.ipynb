{
 "cells": [
  {
   "cell_type": "markdown",
   "id": "24faa87a",
   "metadata": {},
   "source": [
    "1. What advantages do Excel spreadsheets have over CSV spreadsheets?"
   ]
  },
  {
   "cell_type": "markdown",
   "id": "90d679e1",
   "metadata": {},
   "source": [
    "Excel is more superior when compared with the CSV file format, excel has formatting options, formulas, charts, and macros. Excel can also handle larger datasets and can be used for more complex analysis.thus, CSV consumes less amount of file size when the user is importing data; it is a much faster format compared to excel. CSV does not manipulate data and stores it as-is. Excel also allows the user the add-in feature"
   ]
  },
  {
   "cell_type": "markdown",
   "id": "0f8448c7",
   "metadata": {},
   "source": [
    "2. What do you pass to csv.reader() and csv.writer() to create reader and writer objects?"
   ]
  },
  {
   "cell_type": "markdown",
   "id": "da226faa",
   "metadata": {},
   "source": [
    "We pass the object of the file which we have open or on wich file operation needs to be performed\n",
    "\n",
    "example :  open(filename, 'r') as csvfile: # creating a csv reader object csvreader = csv.reader(csvfile)"
   ]
  },
  {
   "cell_type": "markdown",
   "id": "6f4fe179",
   "metadata": {},
   "source": [
    "3. What modes do File objects for reader and writer objects need to be opened in?"
   ]
  },
  {
   "cell_type": "markdown",
   "id": "f3102e3e",
   "metadata": {},
   "source": [
    "File objects for reader and writer objects need to be opened in text mode and with the appropriate newline argument. For example, to open a file for reading with a reader object, you would use open('file.csv', 'rt', newline='').\n",
    "The writerow() method takes a list argument and writes it to a CSV file."
   ]
  },
  {
   "cell_type": "markdown",
   "id": "042e2f1d",
   "metadata": {},
   "source": [
    "4. What method takes a list argument and writes it to a CSV file?"
   ]
  },
  {
   "cell_type": "markdown",
   "id": "b33fcbde",
   "metadata": {},
   "source": [
    "The writerow() method takes a list argument and writes it to a CSV file."
   ]
  },
  {
   "cell_type": "markdown",
   "id": "6c5c9452",
   "metadata": {},
   "source": [
    "5. What do the keyword arguments delimiter and line terminator do?"
   ]
  },
  {
   "cell_type": "markdown",
   "id": "5ec17aa6",
   "metadata": {},
   "source": [
    "The delimiter keyword argument specifies the character used to separate fields in the CSV file (default is comma), and the lineterminator keyword argument specifies the character used to terminate lines in the output CSV file (default is '\\r\\n')"
   ]
  },
  {
   "cell_type": "markdown",
   "id": "6074ed09",
   "metadata": {},
   "source": [
    "6. What function takes a string of JSON data and returns a Python data structure?"
   ]
  },
  {
   "cell_type": "markdown",
   "id": "b87555ce",
   "metadata": {},
   "source": [
    "The json.loads() function takes a string of JSON data and returns a Python data structure."
   ]
  },
  {
   "cell_type": "markdown",
   "id": "f3eda640",
   "metadata": {},
   "source": [
    "7. What function takes a Python data structure and returns a string of JSON data?"
   ]
  },
  {
   "cell_type": "markdown",
   "id": "b8194581",
   "metadata": {},
   "source": [
    "The json.dumps() function takes a Python data structure and returns a string of JSON data.\n"
   ]
  },
  {
   "cell_type": "code",
   "execution_count": null,
   "id": "b6325830",
   "metadata": {},
   "outputs": [],
   "source": []
  }
 ],
 "metadata": {
  "kernelspec": {
   "display_name": "Python 3",
   "language": "python",
   "name": "python3"
  },
  "language_info": {
   "codemirror_mode": {
    "name": "ipython",
    "version": 3
   },
   "file_extension": ".py",
   "mimetype": "text/x-python",
   "name": "python",
   "nbconvert_exporter": "python",
   "pygments_lexer": "ipython3",
   "version": "3.8.8"
  }
 },
 "nbformat": 4,
 "nbformat_minor": 5
}
