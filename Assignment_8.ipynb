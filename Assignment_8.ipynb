{
 "cells": [
  {
   "cell_type": "markdown",
   "id": "54d1702f",
   "metadata": {},
   "source": [
    "# 1. Is the Python Standard Library included with PyInputPlus?"
   ]
  },
  {
   "cell_type": "markdown",
   "id": "f04dc118",
   "metadata": {},
   "source": [
    "PyInputPlus is not a part of python standard library , we should install it separately using pip install."
   ]
  },
  {
   "cell_type": "code",
   "execution_count": 3,
   "id": "008091df",
   "metadata": {},
   "outputs": [
    {
     "name": "stdout",
     "output_type": "stream",
     "text": [
      "Requirement already satisfied: pyinputplus in c:\\users\\harshith\\anaconda3\\lib\\site-packages (0.2.12)\n",
      "Requirement already satisfied: stdiomask>=0.0.3 in c:\\users\\harshith\\anaconda3\\lib\\site-packages (from pyinputplus) (0.0.6)\n",
      "Requirement already satisfied: pysimplevalidate>=0.2.7 in c:\\users\\harshith\\anaconda3\\lib\\site-packages (from pyinputplus) (0.2.12)\n"
     ]
    }
   ],
   "source": [
    "!pip install pyinputplus"
   ]
  },
  {
   "cell_type": "markdown",
   "id": "230f6951",
   "metadata": {},
   "source": [
    "# 2. Why is PyInputPlus commonly imported with import pyinputplus as pypi?"
   ]
  },
  {
   "cell_type": "markdown",
   "id": "aaab1d50",
   "metadata": {},
   "source": [
    "Here pypi is alias for pyinputsplus"
   ]
  },
  {
   "cell_type": "markdown",
   "id": "0c7808fe",
   "metadata": {},
   "source": [
    "The pyip code in the import statement saves us from typing pyinputplus each time we want to call a PyInputPlus function. Instead we can use the shorter pyip name"
   ]
  },
  {
   "cell_type": "markdown",
   "id": "9f46515c",
   "metadata": {},
   "source": [
    "# 3. How do you distinguish between inputInt() and inputFloat()?"
   ]
  },
  {
   "cell_type": "code",
   "execution_count": null,
   "id": "b72b8786",
   "metadata": {},
   "outputs": [],
   "source": [
    " inputInt() : Accepts an integer value, and returns int value\n",
    "inputFloat() : Accepts integer/floating point value and returns float value"
   ]
  },
  {
   "cell_type": "code",
   "execution_count": 4,
   "id": "50afd8c6",
   "metadata": {},
   "outputs": [
    {
     "name": "stdout",
     "output_type": "stream",
     "text": [
      "2.2\n",
      "'2.2' is not an integer.\n",
      "22\n",
      "2.3\n"
     ]
    },
    {
     "data": {
      "text/plain": [
       "2.3"
      ]
     },
     "execution_count": 4,
     "metadata": {},
     "output_type": "execute_result"
    }
   ],
   "source": [
    "import pyinputplus as pyip\n",
    "pyip.inputInt()\n",
    "pyip.inputFloat()"
   ]
  },
  {
   "cell_type": "markdown",
   "id": "f79c2cb1",
   "metadata": {},
   "source": [
    "# 4. Using PyInputPlus, how do you ensure that the user enters a whole number between 0 and 99?"
   ]
  },
  {
   "cell_type": "markdown",
   "id": "a95eec0c",
   "metadata": {},
   "source": [
    " In the inputint function we can set the min = 0 and max =99 to ensure user enters number between 0 and 99"
   ]
  },
  {
   "cell_type": "code",
   "execution_count": 5,
   "id": "90a0d559",
   "metadata": {},
   "outputs": [
    {
     "name": "stdout",
     "output_type": "stream",
     "text": [
      "10\n"
     ]
    },
    {
     "data": {
      "text/plain": [
       "10"
      ]
     },
     "execution_count": 5,
     "metadata": {},
     "output_type": "execute_result"
    }
   ],
   "source": [
    "pyip.inputInt(min = 0, max =99)"
   ]
  },
  {
   "cell_type": "markdown",
   "id": "4d5330c5",
   "metadata": {},
   "source": [
    " We can also use regular expressions to specify whether an input is allowed or not. The allowRegexes and blockRegexes\n",
    "keyword arguments take a list of regular expression strings to determine what the PyInputPlus function will accept or reject as valid input."
   ]
  },
  {
   "cell_type": "code",
   "execution_count": 6,
   "id": "e35d1f00",
   "metadata": {},
   "outputs": [
    {
     "name": "stdout",
     "output_type": "stream",
     "text": [
      "x\n",
      "'x' is not a number.\n",
      "10\n"
     ]
    }
   ],
   "source": [
    "response = pyip.inputNum(allowRegexes=[r'(I|V|X|L|C|D|M)+', r'zero'])"
   ]
  },
  {
   "cell_type": "code",
   "execution_count": 7,
   "id": "fb4e1771",
   "metadata": {},
   "outputs": [
    {
     "name": "stdout",
     "output_type": "stream",
     "text": [
      "20\n",
      "This response is invalid.\n",
      "1\n"
     ]
    }
   ],
   "source": [
    "response = pyip.inputNum(blockRegexes=[r'[02468]$'])# blocks the even numbers"
   ]
  },
  {
   "cell_type": "markdown",
   "id": "b225e1df",
   "metadata": {},
   "source": [
    "# 6. If a blank input is entered three times, what does inputStr(limit=3) do?"
   ]
  },
  {
   "cell_type": "code",
   "execution_count": 8,
   "id": "fdc8d6fb",
   "metadata": {},
   "outputs": [
    {
     "name": "stdout",
     "output_type": "stream",
     "text": [
      "4\n"
     ]
    }
   ],
   "source": [
    "\n",
    "response = pyip.inputStr(limit=3)\n"
   ]
  },
  {
   "cell_type": "markdown",
   "id": "ac05b4e6",
   "metadata": {},
   "source": [
    "# 7. If blank input is entered three times, what does inputStr(limit=3, default='hello') do?"
   ]
  },
  {
   "cell_type": "markdown",
   "id": "bb318d02",
   "metadata": {},
   "source": [
    "When you use limit keyword arguments and also pass a default keyword argument, the function returns the default value instead of raising an exception"
   ]
  },
  {
   "cell_type": "code",
   "execution_count": 9,
   "id": "58ed5dc8",
   "metadata": {},
   "outputs": [
    {
     "name": "stdout",
     "output_type": "stream",
     "text": [
      "10\n"
     ]
    },
    {
     "data": {
      "text/plain": [
       "'10'"
      ]
     },
     "execution_count": 9,
     "metadata": {},
     "output_type": "execute_result"
    }
   ],
   "source": [
    "response = pyip.inputStr(limit=3,default='hello')\n",
    "response"
   ]
  },
  {
   "cell_type": "code",
   "execution_count": null,
   "id": "ad6f2515",
   "metadata": {},
   "outputs": [],
   "source": []
  }
 ],
 "metadata": {
  "kernelspec": {
   "display_name": "Python 3",
   "language": "python",
   "name": "python3"
  },
  "language_info": {
   "codemirror_mode": {
    "name": "ipython",
    "version": 3
   },
   "file_extension": ".py",
   "mimetype": "text/x-python",
   "name": "python",
   "nbconvert_exporter": "python",
   "pygments_lexer": "ipython3",
   "version": "3.8.8"
  }
 },
 "nbformat": 4,
 "nbformat_minor": 5
}
